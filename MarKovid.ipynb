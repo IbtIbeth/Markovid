{
  "cells": [
    {
      "cell_type": "markdown",
      "metadata": {
        "id": "view-in-github",
        "colab_type": "text"
      },
      "source": [
        "<a href=\"https://colab.research.google.com/github/IbtIbeth/Markovid/blob/main/MarKovid.ipynb\" target=\"_parent\"><img src=\"https://colab.research.google.com/assets/colab-badge.svg\" alt=\"Open In Colab\"/></a>"
      ]
    },
    {
      "cell_type": "markdown",
      "metadata": {
        "id": "lRTuKwsFzzpi"
      },
      "source": [
        "Portada\n",
        "\n",
        "# MARKOVID\n",
        "\n",
        "*   Ibeth Escobedo Rios\n",
        "*   Jazmín López Chacón\n",
        "*   Luis David Huante\n",
        "\n",
        "![](https://raw.githubusercontent.com/Chalysis/Markovid/main/cadena_probs.png)\n",
        "\n"
      ]
    },
    {
      "cell_type": "code",
      "execution_count": null,
      "metadata": {
        "id": "uM-eg833iu7q"
      },
      "outputs": [],
      "source": [
        "# DDownload dataset\n",
        "! wget --load-cookies /tmp/cookies.txt \"https://docs.google.com/uc?export=download&confirm=$(wget --quiet --save-cookies /tmp/cookies.txt --keep-session-cookies --no-check-certificate 'https://docs.google.com/uc?export=download&id=1-KDj7eWXJ63X4lqgm1BJdFEIbF19xdrw' -O- | sed -rn 's/.*confirm=([0-9A-Za-z_]+).*/\\1\\n/p')&id=1-KDj7eWXJ63X4lqgm1BJdFEIbF19xdrw\" -O theDataset.csv && rm -rf /tmp/cookies.txt\n"
      ]
    },
    {
      "cell_type": "code",
      "execution_count": null,
      "metadata": {
        "id": "i4T3BfxY7DQd"
      },
      "outputs": [],
      "source": [
        "#Librerías necesarías\n",
        "import matplotlib.pyplot as plt\n",
        "import numpy as np\n",
        "import pandas as pd\n",
        "import seaborn as sns\n",
        "import collections"
      ]
    },
    {
      "cell_type": "markdown",
      "metadata": {
        "id": "x9E9kzTEj6XF"
      },
      "source": [
        "Lo primero es cargar los datos que se encuentran en el archivo csv que se descargó anteriormente."
      ]
    },
    {
      "cell_type": "code",
      "execution_count": null,
      "metadata": {
        "id": "Ay56mFH0hlYK"
      },
      "outputs": [],
      "source": [
        "cols = ['FECHA_ACTUALIZACION', 'ID_REGISTRO',  'TIPO_PACIENTE', 'FECHA_INGRESO', \n",
        "        'FECHA_SINTOMAS', 'FECHA_DEF', 'CLASIFICACION_FINAL']"
      ]
    },
    {
      "cell_type": "code",
      "execution_count": null,
      "metadata": {
        "colab": {
          "base_uri": "https://localhost:8080/",
          "height": 424
        },
        "id": "WPDOxlrB9Cj9",
        "outputId": "72fcfbf5-88d0-4f08-9113-3a3aebf7b426"
      },
      "outputs": [
        {
          "output_type": "execute_result",
          "data": {
            "text/html": [
              "\n",
              "  <div id=\"df-281b2ac2-88f2-455f-81e3-c8ba9f625348\">\n",
              "    <div class=\"colab-df-container\">\n",
              "      <div>\n",
              "<style scoped>\n",
              "    .dataframe tbody tr th:only-of-type {\n",
              "        vertical-align: middle;\n",
              "    }\n",
              "\n",
              "    .dataframe tbody tr th {\n",
              "        vertical-align: top;\n",
              "    }\n",
              "\n",
              "    .dataframe thead th {\n",
              "        text-align: right;\n",
              "    }\n",
              "</style>\n",
              "<table border=\"1\" class=\"dataframe\">\n",
              "  <thead>\n",
              "    <tr style=\"text-align: right;\">\n",
              "      <th></th>\n",
              "      <th>FECHA_ACTUALIZACION</th>\n",
              "      <th>ID_REGISTRO</th>\n",
              "      <th>TIPO_PACIENTE</th>\n",
              "      <th>FECHA_INGRESO</th>\n",
              "      <th>FECHA_SINTOMAS</th>\n",
              "      <th>FECHA_DEF</th>\n",
              "      <th>CLASIFICACION_FINAL</th>\n",
              "    </tr>\n",
              "  </thead>\n",
              "  <tbody>\n",
              "    <tr>\n",
              "      <th>0</th>\n",
              "      <td>2021-12-12</td>\n",
              "      <td>zz7202</td>\n",
              "      <td>1</td>\n",
              "      <td>2021-01-13</td>\n",
              "      <td>2021-01-13</td>\n",
              "      <td>9999-99-99</td>\n",
              "      <td>7</td>\n",
              "    </tr>\n",
              "    <tr>\n",
              "      <th>1</th>\n",
              "      <td>2021-12-12</td>\n",
              "      <td>z405fd</td>\n",
              "      <td>1</td>\n",
              "      <td>2021-01-25</td>\n",
              "      <td>2021-01-17</td>\n",
              "      <td>9999-99-99</td>\n",
              "      <td>7</td>\n",
              "    </tr>\n",
              "    <tr>\n",
              "      <th>2</th>\n",
              "      <td>2021-12-12</td>\n",
              "      <td>z26b82</td>\n",
              "      <td>1</td>\n",
              "      <td>2021-01-14</td>\n",
              "      <td>2021-01-10</td>\n",
              "      <td>9999-99-99</td>\n",
              "      <td>7</td>\n",
              "    </tr>\n",
              "    <tr>\n",
              "      <th>3</th>\n",
              "      <td>2021-12-12</td>\n",
              "      <td>z23d9d</td>\n",
              "      <td>1</td>\n",
              "      <td>2021-01-05</td>\n",
              "      <td>2021-01-05</td>\n",
              "      <td>9999-99-99</td>\n",
              "      <td>6</td>\n",
              "    </tr>\n",
              "    <tr>\n",
              "      <th>4</th>\n",
              "      <td>2021-12-12</td>\n",
              "      <td>zze974</td>\n",
              "      <td>1</td>\n",
              "      <td>2021-02-28</td>\n",
              "      <td>2021-02-20</td>\n",
              "      <td>9999-99-99</td>\n",
              "      <td>7</td>\n",
              "    </tr>\n",
              "    <tr>\n",
              "      <th>...</th>\n",
              "      <td>...</td>\n",
              "      <td>...</td>\n",
              "      <td>...</td>\n",
              "      <td>...</td>\n",
              "      <td>...</td>\n",
              "      <td>...</td>\n",
              "      <td>...</td>\n",
              "    </tr>\n",
              "    <tr>\n",
              "      <th>7627395</th>\n",
              "      <td>2022-01-19</td>\n",
              "      <td>68f3cd</td>\n",
              "      <td>1</td>\n",
              "      <td>2021-05-28</td>\n",
              "      <td>2021-05-28</td>\n",
              "      <td>9999-99-99</td>\n",
              "      <td>7</td>\n",
              "    </tr>\n",
              "    <tr>\n",
              "      <th>7627396</th>\n",
              "      <td>2022-01-19</td>\n",
              "      <td>78dc97</td>\n",
              "      <td>1</td>\n",
              "      <td>2021-05-19</td>\n",
              "      <td>2021-05-15</td>\n",
              "      <td>2021-05-19</td>\n",
              "      <td>3</td>\n",
              "    </tr>\n",
              "    <tr>\n",
              "      <th>7627397</th>\n",
              "      <td>2022-01-19</td>\n",
              "      <td>7604dc</td>\n",
              "      <td>1</td>\n",
              "      <td>2021-01-10</td>\n",
              "      <td>2021-01-10</td>\n",
              "      <td>9999-99-99</td>\n",
              "      <td>3</td>\n",
              "    </tr>\n",
              "    <tr>\n",
              "      <th>7627398</th>\n",
              "      <td>2022-01-19</td>\n",
              "      <td>61d4a7</td>\n",
              "      <td>1</td>\n",
              "      <td>2021-01-10</td>\n",
              "      <td>2021-01-10</td>\n",
              "      <td>9999-99-99</td>\n",
              "      <td>3</td>\n",
              "    </tr>\n",
              "    <tr>\n",
              "      <th>7627399</th>\n",
              "      <td>2022-01-19</td>\n",
              "      <td>cb545e</td>\n",
              "      <td>1</td>\n",
              "      <td>2021-05-28</td>\n",
              "      <td>2021-05-28</td>\n",
              "      <td>9999-99-99</td>\n",
              "      <td>7</td>\n",
              "    </tr>\n",
              "  </tbody>\n",
              "</table>\n",
              "<p>7627400 rows × 7 columns</p>\n",
              "</div>\n",
              "      <button class=\"colab-df-convert\" onclick=\"convertToInteractive('df-281b2ac2-88f2-455f-81e3-c8ba9f625348')\"\n",
              "              title=\"Convert this dataframe to an interactive table.\"\n",
              "              style=\"display:none;\">\n",
              "        \n",
              "  <svg xmlns=\"http://www.w3.org/2000/svg\" height=\"24px\"viewBox=\"0 0 24 24\"\n",
              "       width=\"24px\">\n",
              "    <path d=\"M0 0h24v24H0V0z\" fill=\"none\"/>\n",
              "    <path d=\"M18.56 5.44l.94 2.06.94-2.06 2.06-.94-2.06-.94-.94-2.06-.94 2.06-2.06.94zm-11 1L8.5 8.5l.94-2.06 2.06-.94-2.06-.94L8.5 2.5l-.94 2.06-2.06.94zm10 10l.94 2.06.94-2.06 2.06-.94-2.06-.94-.94-2.06-.94 2.06-2.06.94z\"/><path d=\"M17.41 7.96l-1.37-1.37c-.4-.4-.92-.59-1.43-.59-.52 0-1.04.2-1.43.59L10.3 9.45l-7.72 7.72c-.78.78-.78 2.05 0 2.83L4 21.41c.39.39.9.59 1.41.59.51 0 1.02-.2 1.41-.59l7.78-7.78 2.81-2.81c.8-.78.8-2.07 0-2.86zM5.41 20L4 18.59l7.72-7.72 1.47 1.35L5.41 20z\"/>\n",
              "  </svg>\n",
              "      </button>\n",
              "      \n",
              "  <style>\n",
              "    .colab-df-container {\n",
              "      display:flex;\n",
              "      flex-wrap:wrap;\n",
              "      gap: 12px;\n",
              "    }\n",
              "\n",
              "    .colab-df-convert {\n",
              "      background-color: #E8F0FE;\n",
              "      border: none;\n",
              "      border-radius: 50%;\n",
              "      cursor: pointer;\n",
              "      display: none;\n",
              "      fill: #1967D2;\n",
              "      height: 32px;\n",
              "      padding: 0 0 0 0;\n",
              "      width: 32px;\n",
              "    }\n",
              "\n",
              "    .colab-df-convert:hover {\n",
              "      background-color: #E2EBFA;\n",
              "      box-shadow: 0px 1px 2px rgba(60, 64, 67, 0.3), 0px 1px 3px 1px rgba(60, 64, 67, 0.15);\n",
              "      fill: #174EA6;\n",
              "    }\n",
              "\n",
              "    [theme=dark] .colab-df-convert {\n",
              "      background-color: #3B4455;\n",
              "      fill: #D2E3FC;\n",
              "    }\n",
              "\n",
              "    [theme=dark] .colab-df-convert:hover {\n",
              "      background-color: #434B5C;\n",
              "      box-shadow: 0px 1px 3px 1px rgba(0, 0, 0, 0.15);\n",
              "      filter: drop-shadow(0px 1px 2px rgba(0, 0, 0, 0.3));\n",
              "      fill: #FFFFFF;\n",
              "    }\n",
              "  </style>\n",
              "\n",
              "      <script>\n",
              "        const buttonEl =\n",
              "          document.querySelector('#df-281b2ac2-88f2-455f-81e3-c8ba9f625348 button.colab-df-convert');\n",
              "        buttonEl.style.display =\n",
              "          google.colab.kernel.accessAllowed ? 'block' : 'none';\n",
              "\n",
              "        async function convertToInteractive(key) {\n",
              "          const element = document.querySelector('#df-281b2ac2-88f2-455f-81e3-c8ba9f625348');\n",
              "          const dataTable =\n",
              "            await google.colab.kernel.invokeFunction('convertToInteractive',\n",
              "                                                     [key], {});\n",
              "          if (!dataTable) return;\n",
              "\n",
              "          const docLinkHtml = 'Like what you see? Visit the ' +\n",
              "            '<a target=\"_blank\" href=https://colab.research.google.com/notebooks/data_table.ipynb>data table notebook</a>'\n",
              "            + ' to learn more about interactive tables.';\n",
              "          element.innerHTML = '';\n",
              "          dataTable['output_type'] = 'display_data';\n",
              "          await google.colab.output.renderOutput(dataTable, element);\n",
              "          const docLink = document.createElement('div');\n",
              "          docLink.innerHTML = docLinkHtml;\n",
              "          element.appendChild(docLink);\n",
              "        }\n",
              "      </script>\n",
              "    </div>\n",
              "  </div>\n",
              "  "
            ],
            "text/plain": [
              "        FECHA_ACTUALIZACION ID_REGISTRO  ...   FECHA_DEF CLASIFICACION_FINAL\n",
              "0                2021-12-12      zz7202  ...  9999-99-99                   7\n",
              "1                2021-12-12      z405fd  ...  9999-99-99                   7\n",
              "2                2021-12-12      z26b82  ...  9999-99-99                   7\n",
              "3                2021-12-12      z23d9d  ...  9999-99-99                   6\n",
              "4                2021-12-12      zze974  ...  9999-99-99                   7\n",
              "...                     ...         ...  ...         ...                 ...\n",
              "7627395          2022-01-19      68f3cd  ...  9999-99-99                   7\n",
              "7627396          2022-01-19      78dc97  ...  2021-05-19                   3\n",
              "7627397          2022-01-19      7604dc  ...  9999-99-99                   3\n",
              "7627398          2022-01-19      61d4a7  ...  9999-99-99                   3\n",
              "7627399          2022-01-19      cb545e  ...  9999-99-99                   7\n",
              "\n",
              "[7627400 rows x 7 columns]"
            ]
          },
          "metadata": {},
          "execution_count": 4
        }
      ],
      "source": [
        "covidato = pd.read_csv('/content/theDataset.csv', usecols=cols, compression='zip'); covidato"
      ]
    },
    {
      "cell_type": "code",
      "execution_count": null,
      "metadata": {
        "colab": {
          "base_uri": "https://localhost:8080/"
        },
        "id": "Y89h4VCF9gkC",
        "outputId": "ac0f8884-df0a-4af7-b064-568daa5df5df"
      },
      "outputs": [
        {
          "output_type": "stream",
          "name": "stdout",
          "text": [
            "<class 'pandas.core.frame.DataFrame'>\n",
            "RangeIndex: 7627400 entries, 0 to 7627399\n",
            "Data columns (total 7 columns):\n",
            " #   Column               Dtype \n",
            "---  ------               ----- \n",
            " 0   FECHA_ACTUALIZACION  object\n",
            " 1   ID_REGISTRO          object\n",
            " 2   TIPO_PACIENTE        int64 \n",
            " 3   FECHA_INGRESO        object\n",
            " 4   FECHA_SINTOMAS       object\n",
            " 5   FECHA_DEF            object\n",
            " 6   CLASIFICACION_FINAL  int64 \n",
            "dtypes: int64(2), object(5)\n",
            "memory usage: 407.3+ MB\n"
          ]
        }
      ],
      "source": [
        "#Revisamos la estructura\n",
        "covidato.info()"
      ]
    },
    {
      "cell_type": "markdown",
      "metadata": {
        "id": "FsvE4pFck_iP"
      },
      "source": [
        "# Estructura del modelo\n",
        "Para hacer la cadena, necesitamos primero definir los estados, después de una revisión, los estados son los siguientes:\n",
        "* Sintomática (S)\n",
        "* Negativa (N)\n",
        "* Positiva (P)\n",
        "* Hospitalizada (H)\n",
        "* Difunta (D)\n",
        "\n",
        "Para poder ver bien el comportamiento de estos estados, es necesario hacer las separaciones."
      ]
    },
    {
      "cell_type": "code",
      "execution_count": null,
      "metadata": {
        "id": "kEkZlt0Q_BUi"
      },
      "outputs": [],
      "source": [
        "#Conjuntos\n",
        "neg = covidato[covidato.CLASIFICACION_FINAL == 7] #Negativa\n",
        "pos = covidato[covidato.CLASIFICACION_FINAL.isin([1,2,3])] # Positiva\n",
        "hos = covidato[(covidato.TIPO_PACIENTE == 2)] #Hospitalizada\n",
        "dif = covidato[covidato.FECHA_DEF != \"9999-99-99\"] #Difunta"
      ]
    },
    {
      "cell_type": "markdown",
      "metadata": {
        "id": "N5at_H9YoCNu"
      },
      "source": [
        "Lo siguiente es considerar las intersecciones entre dos conjuntos."
      ]
    },
    {
      "cell_type": "code",
      "execution_count": null,
      "metadata": {
        "id": "oIYCSk8wrveG"
      },
      "outputs": [],
      "source": [
        "### ######## ###\n",
        "### NEGATIVA ###\n",
        "### ######## ###\n",
        "# Las personas que han tenido un resultado negativo y uno positivo\n",
        "pos_neg = neg[neg.ID_REGISTRO.isin(pos.ID_REGISTRO)]\n",
        "# Las personas que han estado hospitalizadas y no tienen covid\n",
        "hos_neg = hos[hos.ID_REGISTRO.isin(neg.ID_REGISTRO)]"
      ]
    },
    {
      "cell_type": "code",
      "execution_count": null,
      "metadata": {
        "id": "ID6XMmQEoB3C"
      },
      "outputs": [],
      "source": [
        "### ######## ###\n",
        "### POSITIVA ###\n",
        "### ######## ###\n",
        "# Las personas que han estado hospitalizadas y tienen covid\n",
        "hos_pos = hos[hos.ID_REGISTRO.isin(pos.ID_REGISTRO)]\n",
        "#Personas difuntas que padecieron covid\n",
        "dif_pos = dif[dif.ID_REGISTRO.isin(pos.ID_REGISTRO)]"
      ]
    },
    {
      "cell_type": "code",
      "execution_count": null,
      "metadata": {
        "colab": {
          "base_uri": "https://localhost:8080/",
          "height": 488
        },
        "id": "b9R1JJl4wcih",
        "outputId": "0893ddcb-bcfc-4716-cd9d-3c6bfdef433b"
      },
      "outputs": [
        {
          "output_type": "execute_result",
          "data": {
            "text/html": [
              "\n",
              "  <div id=\"df-579263a8-a7f6-48a4-82fb-d3418b8bda9b\">\n",
              "    <div class=\"colab-df-container\">\n",
              "      <div>\n",
              "<style scoped>\n",
              "    .dataframe tbody tr th:only-of-type {\n",
              "        vertical-align: middle;\n",
              "    }\n",
              "\n",
              "    .dataframe tbody tr th {\n",
              "        vertical-align: top;\n",
              "    }\n",
              "\n",
              "    .dataframe thead th {\n",
              "        text-align: right;\n",
              "    }\n",
              "</style>\n",
              "<table border=\"1\" class=\"dataframe\">\n",
              "  <thead>\n",
              "    <tr style=\"text-align: right;\">\n",
              "      <th></th>\n",
              "      <th>FECHA_ACTUALIZACION</th>\n",
              "      <th>ID_REGISTRO</th>\n",
              "      <th>TIPO_PACIENTE</th>\n",
              "      <th>FECHA_INGRESO</th>\n",
              "      <th>FECHA_SINTOMAS</th>\n",
              "      <th>FECHA_DEF</th>\n",
              "      <th>CLASIFICACION_FINAL</th>\n",
              "    </tr>\n",
              "  </thead>\n",
              "  <tbody>\n",
              "    <tr>\n",
              "      <th>4808951</th>\n",
              "      <td>2022-01-19</td>\n",
              "      <td>4fcede</td>\n",
              "      <td>2</td>\n",
              "      <td>2021-01-30</td>\n",
              "      <td>2021-01-17</td>\n",
              "      <td>2021-01-30</td>\n",
              "      <td>1</td>\n",
              "    </tr>\n",
              "    <tr>\n",
              "      <th>2253688</th>\n",
              "      <td>2021-12-12</td>\n",
              "      <td>8d63b5</td>\n",
              "      <td>2</td>\n",
              "      <td>2021-03-27</td>\n",
              "      <td>2021-03-20</td>\n",
              "      <td>2021-04-05</td>\n",
              "      <td>1</td>\n",
              "    </tr>\n",
              "    <tr>\n",
              "      <th>6067388</th>\n",
              "      <td>2022-01-19</td>\n",
              "      <td>8d63b5</td>\n",
              "      <td>2</td>\n",
              "      <td>2021-03-27</td>\n",
              "      <td>2021-03-20</td>\n",
              "      <td>2021-04-05</td>\n",
              "      <td>7</td>\n",
              "    </tr>\n",
              "    <tr>\n",
              "      <th>1763304</th>\n",
              "      <td>2021-12-12</td>\n",
              "      <td>adba70</td>\n",
              "      <td>2</td>\n",
              "      <td>2021-02-27</td>\n",
              "      <td>2021-02-18</td>\n",
              "      <td>2021-03-13</td>\n",
              "      <td>7</td>\n",
              "    </tr>\n",
              "    <tr>\n",
              "      <th>5577004</th>\n",
              "      <td>2022-01-19</td>\n",
              "      <td>adba70</td>\n",
              "      <td>2</td>\n",
              "      <td>2021-02-27</td>\n",
              "      <td>2021-02-18</td>\n",
              "      <td>2021-03-13</td>\n",
              "      <td>3</td>\n",
              "    </tr>\n",
              "    <tr>\n",
              "      <th>3114695</th>\n",
              "      <td>2021-12-12</td>\n",
              "      <td>c0874b</td>\n",
              "      <td>2</td>\n",
              "      <td>2021-05-18</td>\n",
              "      <td>2021-05-18</td>\n",
              "      <td>2021-05-18</td>\n",
              "      <td>2</td>\n",
              "    </tr>\n",
              "    <tr>\n",
              "      <th>6928395</th>\n",
              "      <td>2022-01-19</td>\n",
              "      <td>c0874b</td>\n",
              "      <td>2</td>\n",
              "      <td>2021-05-18</td>\n",
              "      <td>2021-05-18</td>\n",
              "      <td>2021-05-18</td>\n",
              "      <td>7</td>\n",
              "    </tr>\n",
              "    <tr>\n",
              "      <th>584765</th>\n",
              "      <td>2021-12-12</td>\n",
              "      <td>c1488c</td>\n",
              "      <td>2</td>\n",
              "      <td>2021-01-18</td>\n",
              "      <td>2021-01-15</td>\n",
              "      <td>2021-01-24</td>\n",
              "      <td>7</td>\n",
              "    </tr>\n",
              "    <tr>\n",
              "      <th>4398465</th>\n",
              "      <td>2022-01-19</td>\n",
              "      <td>c1488c</td>\n",
              "      <td>2</td>\n",
              "      <td>2021-01-18</td>\n",
              "      <td>2021-01-15</td>\n",
              "      <td>2021-01-24</td>\n",
              "      <td>3</td>\n",
              "    </tr>\n",
              "    <tr>\n",
              "      <th>637418</th>\n",
              "      <td>2021-12-12</td>\n",
              "      <td>cd2a49</td>\n",
              "      <td>2</td>\n",
              "      <td>2021-01-21</td>\n",
              "      <td>2021-01-19</td>\n",
              "      <td>2021-01-25</td>\n",
              "      <td>2</td>\n",
              "    </tr>\n",
              "    <tr>\n",
              "      <th>4451118</th>\n",
              "      <td>2022-01-19</td>\n",
              "      <td>cd2a49</td>\n",
              "      <td>2</td>\n",
              "      <td>2021-01-21</td>\n",
              "      <td>2021-01-07</td>\n",
              "      <td>2021-01-25</td>\n",
              "      <td>7</td>\n",
              "    </tr>\n",
              "    <tr>\n",
              "      <th>506144</th>\n",
              "      <td>2021-12-12</td>\n",
              "      <td>d9cf90</td>\n",
              "      <td>2</td>\n",
              "      <td>2021-01-19</td>\n",
              "      <td>2021-01-10</td>\n",
              "      <td>2021-01-23</td>\n",
              "      <td>7</td>\n",
              "    </tr>\n",
              "    <tr>\n",
              "      <th>4319844</th>\n",
              "      <td>2022-01-19</td>\n",
              "      <td>d9cf90</td>\n",
              "      <td>2</td>\n",
              "      <td>2021-01-19</td>\n",
              "      <td>2021-01-10</td>\n",
              "      <td>2021-01-23</td>\n",
              "      <td>3</td>\n",
              "    </tr>\n",
              "    <tr>\n",
              "      <th>4553063</th>\n",
              "      <td>2022-01-19</td>\n",
              "      <td>eb257e</td>\n",
              "      <td>2</td>\n",
              "      <td>2021-01-24</td>\n",
              "      <td>2021-01-16</td>\n",
              "      <td>2021-02-02</td>\n",
              "      <td>7</td>\n",
              "    </tr>\n",
              "  </tbody>\n",
              "</table>\n",
              "</div>\n",
              "      <button class=\"colab-df-convert\" onclick=\"convertToInteractive('df-579263a8-a7f6-48a4-82fb-d3418b8bda9b')\"\n",
              "              title=\"Convert this dataframe to an interactive table.\"\n",
              "              style=\"display:none;\">\n",
              "        \n",
              "  <svg xmlns=\"http://www.w3.org/2000/svg\" height=\"24px\"viewBox=\"0 0 24 24\"\n",
              "       width=\"24px\">\n",
              "    <path d=\"M0 0h24v24H0V0z\" fill=\"none\"/>\n",
              "    <path d=\"M18.56 5.44l.94 2.06.94-2.06 2.06-.94-2.06-.94-.94-2.06-.94 2.06-2.06.94zm-11 1L8.5 8.5l.94-2.06 2.06-.94-2.06-.94L8.5 2.5l-.94 2.06-2.06.94zm10 10l.94 2.06.94-2.06 2.06-.94-2.06-.94-.94-2.06-.94 2.06-2.06.94z\"/><path d=\"M17.41 7.96l-1.37-1.37c-.4-.4-.92-.59-1.43-.59-.52 0-1.04.2-1.43.59L10.3 9.45l-7.72 7.72c-.78.78-.78 2.05 0 2.83L4 21.41c.39.39.9.59 1.41.59.51 0 1.02-.2 1.41-.59l7.78-7.78 2.81-2.81c.8-.78.8-2.07 0-2.86zM5.41 20L4 18.59l7.72-7.72 1.47 1.35L5.41 20z\"/>\n",
              "  </svg>\n",
              "      </button>\n",
              "      \n",
              "  <style>\n",
              "    .colab-df-container {\n",
              "      display:flex;\n",
              "      flex-wrap:wrap;\n",
              "      gap: 12px;\n",
              "    }\n",
              "\n",
              "    .colab-df-convert {\n",
              "      background-color: #E8F0FE;\n",
              "      border: none;\n",
              "      border-radius: 50%;\n",
              "      cursor: pointer;\n",
              "      display: none;\n",
              "      fill: #1967D2;\n",
              "      height: 32px;\n",
              "      padding: 0 0 0 0;\n",
              "      width: 32px;\n",
              "    }\n",
              "\n",
              "    .colab-df-convert:hover {\n",
              "      background-color: #E2EBFA;\n",
              "      box-shadow: 0px 1px 2px rgba(60, 64, 67, 0.3), 0px 1px 3px 1px rgba(60, 64, 67, 0.15);\n",
              "      fill: #174EA6;\n",
              "    }\n",
              "\n",
              "    [theme=dark] .colab-df-convert {\n",
              "      background-color: #3B4455;\n",
              "      fill: #D2E3FC;\n",
              "    }\n",
              "\n",
              "    [theme=dark] .colab-df-convert:hover {\n",
              "      background-color: #434B5C;\n",
              "      box-shadow: 0px 1px 3px 1px rgba(0, 0, 0, 0.15);\n",
              "      filter: drop-shadow(0px 1px 2px rgba(0, 0, 0, 0.3));\n",
              "      fill: #FFFFFF;\n",
              "    }\n",
              "  </style>\n",
              "\n",
              "      <script>\n",
              "        const buttonEl =\n",
              "          document.querySelector('#df-579263a8-a7f6-48a4-82fb-d3418b8bda9b button.colab-df-convert');\n",
              "        buttonEl.style.display =\n",
              "          google.colab.kernel.accessAllowed ? 'block' : 'none';\n",
              "\n",
              "        async function convertToInteractive(key) {\n",
              "          const element = document.querySelector('#df-579263a8-a7f6-48a4-82fb-d3418b8bda9b');\n",
              "          const dataTable =\n",
              "            await google.colab.kernel.invokeFunction('convertToInteractive',\n",
              "                                                     [key], {});\n",
              "          if (!dataTable) return;\n",
              "\n",
              "          const docLinkHtml = 'Like what you see? Visit the ' +\n",
              "            '<a target=\"_blank\" href=https://colab.research.google.com/notebooks/data_table.ipynb>data table notebook</a>'\n",
              "            + ' to learn more about interactive tables.';\n",
              "          element.innerHTML = '';\n",
              "          dataTable['output_type'] = 'display_data';\n",
              "          await google.colab.output.renderOutput(dataTable, element);\n",
              "          const docLink = document.createElement('div');\n",
              "          docLink.innerHTML = docLinkHtml;\n",
              "          element.appendChild(docLink);\n",
              "        }\n",
              "      </script>\n",
              "    </div>\n",
              "  </div>\n",
              "  "
            ],
            "text/plain": [
              "        FECHA_ACTUALIZACION ID_REGISTRO  ...   FECHA_DEF CLASIFICACION_FINAL\n",
              "4808951          2022-01-19      4fcede  ...  2021-01-30                   1\n",
              "2253688          2021-12-12      8d63b5  ...  2021-04-05                   1\n",
              "6067388          2022-01-19      8d63b5  ...  2021-04-05                   7\n",
              "1763304          2021-12-12      adba70  ...  2021-03-13                   7\n",
              "5577004          2022-01-19      adba70  ...  2021-03-13                   3\n",
              "3114695          2021-12-12      c0874b  ...  2021-05-18                   2\n",
              "6928395          2022-01-19      c0874b  ...  2021-05-18                   7\n",
              "584765           2021-12-12      c1488c  ...  2021-01-24                   7\n",
              "4398465          2022-01-19      c1488c  ...  2021-01-24                   3\n",
              "637418           2021-12-12      cd2a49  ...  2021-01-25                   2\n",
              "4451118          2022-01-19      cd2a49  ...  2021-01-25                   7\n",
              "506144           2021-12-12      d9cf90  ...  2021-01-23                   7\n",
              "4319844          2022-01-19      d9cf90  ...  2021-01-23                   3\n",
              "4553063          2022-01-19      eb257e  ...  2021-02-02                   7\n",
              "\n",
              "[14 rows x 7 columns]"
            ]
          },
          "metadata": {},
          "execution_count": 9
        }
      ],
      "source": [
        "dif[dif.ID_REGISTRO.isin(pos_neg.ID_REGISTRO)].sort_values(by='ID_REGISTRO')"
      ]
    },
    {
      "cell_type": "code",
      "execution_count": null,
      "metadata": {
        "colab": {
          "base_uri": "https://localhost:8080/",
          "height": 112
        },
        "id": "mhDccAkOyn6b",
        "outputId": "08f727c4-3892-46c4-bf29-593b486a6836"
      },
      "outputs": [
        {
          "output_type": "execute_result",
          "data": {
            "text/html": [
              "\n",
              "  <div id=\"df-fbb1e28e-a384-46ad-9b0d-8d2f7c9646e7\">\n",
              "    <div class=\"colab-df-container\">\n",
              "      <div>\n",
              "<style scoped>\n",
              "    .dataframe tbody tr th:only-of-type {\n",
              "        vertical-align: middle;\n",
              "    }\n",
              "\n",
              "    .dataframe tbody tr th {\n",
              "        vertical-align: top;\n",
              "    }\n",
              "\n",
              "    .dataframe thead th {\n",
              "        text-align: right;\n",
              "    }\n",
              "</style>\n",
              "<table border=\"1\" class=\"dataframe\">\n",
              "  <thead>\n",
              "    <tr style=\"text-align: right;\">\n",
              "      <th></th>\n",
              "      <th>ID_REGISTRO</th>\n",
              "      <th>FECHA_ACTUALIZACION</th>\n",
              "      <th>FECHA_INGRESO</th>\n",
              "      <th>FECHA_SINTOMAS</th>\n",
              "      <th>FECHA_DEF</th>\n",
              "      <th>CLASIFICACION_FINAL</th>\n",
              "    </tr>\n",
              "  </thead>\n",
              "  <tbody>\n",
              "    <tr>\n",
              "      <th>1763304</th>\n",
              "      <td>adba70</td>\n",
              "      <td>2021-12-12</td>\n",
              "      <td>2021-02-27</td>\n",
              "      <td>2021-02-18</td>\n",
              "      <td>2021-03-13</td>\n",
              "      <td>7</td>\n",
              "    </tr>\n",
              "    <tr>\n",
              "      <th>5577004</th>\n",
              "      <td>adba70</td>\n",
              "      <td>2022-01-19</td>\n",
              "      <td>2021-02-27</td>\n",
              "      <td>2021-02-18</td>\n",
              "      <td>2021-03-13</td>\n",
              "      <td>3</td>\n",
              "    </tr>\n",
              "  </tbody>\n",
              "</table>\n",
              "</div>\n",
              "      <button class=\"colab-df-convert\" onclick=\"convertToInteractive('df-fbb1e28e-a384-46ad-9b0d-8d2f7c9646e7')\"\n",
              "              title=\"Convert this dataframe to an interactive table.\"\n",
              "              style=\"display:none;\">\n",
              "        \n",
              "  <svg xmlns=\"http://www.w3.org/2000/svg\" height=\"24px\"viewBox=\"0 0 24 24\"\n",
              "       width=\"24px\">\n",
              "    <path d=\"M0 0h24v24H0V0z\" fill=\"none\"/>\n",
              "    <path d=\"M18.56 5.44l.94 2.06.94-2.06 2.06-.94-2.06-.94-.94-2.06-.94 2.06-2.06.94zm-11 1L8.5 8.5l.94-2.06 2.06-.94-2.06-.94L8.5 2.5l-.94 2.06-2.06.94zm10 10l.94 2.06.94-2.06 2.06-.94-2.06-.94-.94-2.06-.94 2.06-2.06.94z\"/><path d=\"M17.41 7.96l-1.37-1.37c-.4-.4-.92-.59-1.43-.59-.52 0-1.04.2-1.43.59L10.3 9.45l-7.72 7.72c-.78.78-.78 2.05 0 2.83L4 21.41c.39.39.9.59 1.41.59.51 0 1.02-.2 1.41-.59l7.78-7.78 2.81-2.81c.8-.78.8-2.07 0-2.86zM5.41 20L4 18.59l7.72-7.72 1.47 1.35L5.41 20z\"/>\n",
              "  </svg>\n",
              "      </button>\n",
              "      \n",
              "  <style>\n",
              "    .colab-df-container {\n",
              "      display:flex;\n",
              "      flex-wrap:wrap;\n",
              "      gap: 12px;\n",
              "    }\n",
              "\n",
              "    .colab-df-convert {\n",
              "      background-color: #E8F0FE;\n",
              "      border: none;\n",
              "      border-radius: 50%;\n",
              "      cursor: pointer;\n",
              "      display: none;\n",
              "      fill: #1967D2;\n",
              "      height: 32px;\n",
              "      padding: 0 0 0 0;\n",
              "      width: 32px;\n",
              "    }\n",
              "\n",
              "    .colab-df-convert:hover {\n",
              "      background-color: #E2EBFA;\n",
              "      box-shadow: 0px 1px 2px rgba(60, 64, 67, 0.3), 0px 1px 3px 1px rgba(60, 64, 67, 0.15);\n",
              "      fill: #174EA6;\n",
              "    }\n",
              "\n",
              "    [theme=dark] .colab-df-convert {\n",
              "      background-color: #3B4455;\n",
              "      fill: #D2E3FC;\n",
              "    }\n",
              "\n",
              "    [theme=dark] .colab-df-convert:hover {\n",
              "      background-color: #434B5C;\n",
              "      box-shadow: 0px 1px 3px 1px rgba(0, 0, 0, 0.15);\n",
              "      filter: drop-shadow(0px 1px 2px rgba(0, 0, 0, 0.3));\n",
              "      fill: #FFFFFF;\n",
              "    }\n",
              "  </style>\n",
              "\n",
              "      <script>\n",
              "        const buttonEl =\n",
              "          document.querySelector('#df-fbb1e28e-a384-46ad-9b0d-8d2f7c9646e7 button.colab-df-convert');\n",
              "        buttonEl.style.display =\n",
              "          google.colab.kernel.accessAllowed ? 'block' : 'none';\n",
              "\n",
              "        async function convertToInteractive(key) {\n",
              "          const element = document.querySelector('#df-fbb1e28e-a384-46ad-9b0d-8d2f7c9646e7');\n",
              "          const dataTable =\n",
              "            await google.colab.kernel.invokeFunction('convertToInteractive',\n",
              "                                                     [key], {});\n",
              "          if (!dataTable) return;\n",
              "\n",
              "          const docLinkHtml = 'Like what you see? Visit the ' +\n",
              "            '<a target=\"_blank\" href=https://colab.research.google.com/notebooks/data_table.ipynb>data table notebook</a>'\n",
              "            + ' to learn more about interactive tables.';\n",
              "          element.innerHTML = '';\n",
              "          dataTable['output_type'] = 'display_data';\n",
              "          await google.colab.output.renderOutput(dataTable, element);\n",
              "          const docLink = document.createElement('div');\n",
              "          docLink.innerHTML = docLinkHtml;\n",
              "          element.appendChild(docLink);\n",
              "        }\n",
              "      </script>\n",
              "    </div>\n",
              "  </div>\n",
              "  "
            ],
            "text/plain": [
              "        ID_REGISTRO FECHA_ACTUALIZACION  ...   FECHA_DEF CLASIFICACION_FINAL\n",
              "1763304      adba70          2021-12-12  ...  2021-03-13                   7\n",
              "5577004      adba70          2022-01-19  ...  2021-03-13                   3\n",
              "\n",
              "[2 rows x 6 columns]"
            ]
          },
          "metadata": {},
          "execution_count": 10
        }
      ],
      "source": [
        "dif[dif.ID_REGISTRO=='adba70'][['ID_REGISTRO','FECHA_ACTUALIZACION','FECHA_INGRESO','FECHA_SINTOMAS','FECHA_DEF','CLASIFICACION_FINAL']]"
      ]
    },
    {
      "cell_type": "code",
      "execution_count": null,
      "metadata": {
        "colab": {
          "base_uri": "https://localhost:8080/",
          "height": 35
        },
        "id": "ZyXmlYCBj-2J",
        "outputId": "7f3b0037-c067-4d1d-a9f8-07610f9102b9"
      },
      "outputs": [
        {
          "output_type": "execute_result",
          "data": {
            "application/vnd.google.colaboratory.intrinsic+json": {
              "type": "string"
            },
            "text/plain": [
              "'2021-11-27'"
            ]
          },
          "metadata": {},
          "execution_count": 11
        }
      ],
      "source": [
        "dif.FECHA_DEF.max() "
      ]
    },
    {
      "cell_type": "code",
      "execution_count": null,
      "metadata": {
        "id": "SvSDSwPwMoLL"
      },
      "outputs": [],
      "source": [
        "rec = pos[(pos.FECHA_INGRESO < '2021-11-13')&(~pos.ID_REGISTRO.isin(dif.ID_REGISTRO))]['ID_REGISTRO']\n",
        "inf_gnr = {'pT': covidato.ID_REGISTRO.nunique(), 'casos': pos.ID_REGISTRO.nunique(), \n",
        "           'muertes': dif_pos.ID_REGISTRO.nunique(), 'hospitalizados': hos_pos.ID_REGISTRO.nunique(),\n",
        "           'No hospitalizados': pos.ID_REGISTRO.nunique() - hos_pos.ID_REGISTRO.nunique(), \n",
        "           'recuperados': rec.nunique()\n",
        "}"
      ]
    },
    {
      "cell_type": "code",
      "execution_count": null,
      "metadata": {
        "colab": {
          "base_uri": "https://localhost:8080/"
        },
        "id": "k6hL4N9-j9sd",
        "outputId": "64d9a129-5078-4cca-b99e-fcc7a8b2ef17"
      },
      "outputs": [
        {
          "output_type": "execute_result",
          "data": {
            "text/plain": [
              "{'No hospitalizados': 862400,\n",
              " 'casos': 1020359,\n",
              " 'hospitalizados': 157959,\n",
              " 'muertes': 82461,\n",
              " 'pT': 3813700,\n",
              " 'recuperados': 937898}"
            ]
          },
          "metadata": {},
          "execution_count": 13
        }
      ],
      "source": [
        "inf_gnr"
      ]
    },
    {
      "cell_type": "code",
      "execution_count": null,
      "metadata": {
        "colab": {
          "base_uri": "https://localhost:8080/"
        },
        "id": "ABbyhJLqovEX",
        "outputId": "78c47e81-021f-4862-cdbe-c6c122271ab3"
      },
      "outputs": [
        {
          "output_type": "execute_result",
          "data": {
            "text/plain": [
              "2    199016\n",
              "1     13213\n",
              "Name: TIPO_PACIENTE, dtype: int64"
            ]
          },
          "metadata": {},
          "execution_count": 14
        }
      ],
      "source": [
        "dif.TIPO_PACIENTE.value_counts()"
      ]
    },
    {
      "cell_type": "code",
      "execution_count": null,
      "metadata": {
        "colab": {
          "base_uri": "https://localhost:8080/"
        },
        "id": "M-x2b3IAQYBd",
        "outputId": "deaec381-49a3-4293-a811-965882435103"
      },
      "outputs": [
        {
          "output_type": "stream",
          "name": "stdout",
          "text": [
            "S->N=0.7061, S->P0.2676\n"
          ]
        }
      ],
      "source": [
        "######################\n",
        "### PROBABILIDADES ###\n",
        "######################\n",
        "\n",
        "### Estando en S###\n",
        "\n",
        "#S->N\n",
        "P_S2N = neg.ID_REGISTRO.nunique()/inf_gnr['pT'] #P(N&S)/P(S)\n",
        "\n",
        "\n",
        "#S->P\n",
        "P_S2P = pos.ID_REGISTRO.nunique()/inf_gnr['pT'] #P(P&S)/P(S)\n",
        "\n",
        "print(f\"S->N={P_S2N:.4f}, S->P{P_S2P:.4f}\")"
      ]
    },
    {
      "cell_type": "code",
      "execution_count": null,
      "metadata": {
        "colab": {
          "base_uri": "https://localhost:8080/"
        },
        "id": "qs526vMtSJfZ",
        "outputId": "9a8d71e9-ac4d-46eb-9045-30552db6ac5a"
      },
      "outputs": [
        {
          "output_type": "stream",
          "name": "stdout",
          "text": [
            "P->N=0.8402,P->H=0.1548,P->M=0.0050\n"
          ]
        }
      ],
      "source": [
        "### Estando en P ###\n",
        "\n",
        "#P-> N\n",
        "P_P2N = pos[(pos.ID_REGISTRO.isin(rec))&(~pos.ID_REGISTRO.isin(hos.ID_REGISTRO))].ID_REGISTRO.nunique()/pos.ID_REGISTRO.nunique()\n",
        "\n",
        "#P -> H\n",
        "P_P2H = hos_pos.ID_REGISTRO.nunique()/pos.ID_REGISTRO.nunique(); P_P2H\n",
        "\n",
        "#P -> D\n",
        "P_P2M = pos[(pos.ID_REGISTRO.isin(dif.ID_REGISTRO))&(~pos.ID_REGISTRO.isin(hos.ID_REGISTRO))].ID_REGISTRO.nunique()/pos.ID_REGISTRO.nunique()\n",
        "\n",
        "print(f\"P->N={P_P2N:.4f},P->H={P_P2H:.4f},P->M={P_P2M:.4f}\")"
      ]
    },
    {
      "cell_type": "code",
      "execution_count": null,
      "metadata": {
        "colab": {
          "base_uri": "https://localhost:8080/"
        },
        "id": "D0KAYIOxQAvp",
        "outputId": "8617f63c-2d3e-4b18-e4fe-a4e15f1ef3cd"
      },
      "outputs": [
        {
          "output_type": "stream",
          "name": "stdout",
          "text": [
            "H->N=0.5101,H->M=0.4899\n"
          ]
        }
      ],
      "source": [
        "### Estando en H ###\n",
        "\n",
        "P_H2N = hos_pos[(hos_pos.ID_REGISTRO.isin(rec))].ID_REGISTRO.nunique()/hos_pos.ID_REGISTRO.nunique()\n",
        "\n",
        "P_H2M = hos_pos[(hos_pos.ID_REGISTRO.isin(dif.ID_REGISTRO))].ID_REGISTRO.nunique()/hos_pos.ID_REGISTRO.nunique()\n",
        "\n",
        "print(f\"H->N={P_H2N:.4f},H->M={P_H2M:.4f}\")"
      ]
    },
    {
      "cell_type": "code",
      "execution_count": null,
      "metadata": {
        "colab": {
          "base_uri": "https://localhost:8080/",
          "height": 53
        },
        "id": "rnKEeQfLO36i",
        "outputId": "727cf6ce-4d24-436b-9aba-65746b1a3832"
      },
      "outputs": [
        {
          "output_type": "execute_result",
          "data": {
            "application/vnd.google.colaboratory.intrinsic+json": {
              "type": "string"
            },
            "text/plain": [
              "'2 -> P_+2 H = #Hos_pos/ #pos\\n11 -> P_+2 M = #(~Hosp ^ Dif_pos)/#pos\\n7 -> P_+2- = #(Rec-Hos_pos)/#pos\\n8 -> P_H2- = #Hos_pos ^ rec / #hos_pos\\n9 -> P_H2 M = #hos_pos ^ #dif_pos'"
            ]
          },
          "metadata": {},
          "execution_count": 18
        }
      ],
      "source": [
        "#Probabilidades PASARLO A MARKDOWN ANTES DE EMPEZAR LOS CÁLCULOS\n",
        "\"\"\"2 -> P_+2 H = #Hos_pos/ #pos\n",
        "11 -> P_+2 M = #(~Hosp ^ Dif_pos)/#pos\n",
        "7 -> P_+2- = #(Rec-Hos_pos)/#pos\n",
        "8 -> P_H2- = #Hos_pos ^ rec / #hos_pos\n",
        "9 -> P_H2 M = #hos_pos ^ #dif_pos\"\"\""
      ]
    },
    {
      "cell_type": "code",
      "execution_count": null,
      "metadata": {
        "id": "wtO5srPl9d9K"
      },
      "outputs": [],
      "source": [
        "#Definición del diccionario\n",
        "\n",
        "chain = {'S':[('P',0.2676), ('N',0.7061)], \n",
        "           'P':[('N',0.8402), ('H',0.1548), ('D',0.0050)], \n",
        "           'H':[('N',0.5101), ('D',0.4899)],\n",
        "           'D':[('D',1)]} #Es estado final\n"
      ]
    },
    {
      "cell_type": "code",
      "execution_count": null,
      "metadata": {
        "id": "pANM9lO3jZ6p"
      },
      "outputs": [],
      "source": [
        "personas = ['S' for i in range(100)] # personas a pruebas"
      ]
    },
    {
      "cell_type": "code",
      "execution_count": null,
      "metadata": {
        "colab": {
          "base_uri": "https://localhost:8080/"
        },
        "id": "cBzBK9Hkj_1E",
        "outputId": "b53a9bfb-9245-4c7f-a3ab-a890c0ec0d17"
      },
      "outputs": [
        {
          "output_type": "execute_result",
          "data": {
            "text/plain": [
              "{'D': [('D', 1)],\n",
              " 'H': [('N', 0.5101), ('D', 0.4899)],\n",
              " 'P': [('N', 0.8402), ('H', 0.1548), ('D', 0.005)],\n",
              " 'S': [('P', 0.2676), ('N', 0.7061)]}"
            ]
          },
          "metadata": {},
          "execution_count": 21
        }
      ],
      "source": [
        "chain"
      ]
    },
    {
      "cell_type": "code",
      "execution_count": null,
      "metadata": {
        "id": "1yhn-s_7kD0M"
      },
      "outputs": [],
      "source": [
        "for i in range(100):\n",
        "  x = np.random.random()\n",
        "  if x <= 0.7061:\n",
        "    personas[i] = 'N'\n",
        "  else:\n",
        "    personas[i] = 'P'"
      ]
    },
    {
      "cell_type": "code",
      "execution_count": null,
      "metadata": {
        "colab": {
          "base_uri": "https://localhost:8080/"
        },
        "id": "cw0ktbhzkVxu",
        "outputId": "493ed084-290d-4fb0-e291-55b0d56ce1f5"
      },
      "outputs": [
        {
          "output_type": "execute_result",
          "data": {
            "text/plain": [
              "34"
            ]
          },
          "metadata": {},
          "execution_count": 23
        }
      ],
      "source": [
        "personas.count('P')"
      ]
    },
    {
      "cell_type": "code",
      "execution_count": null,
      "metadata": {
        "id": "USq03PObtOD8"
      },
      "outputs": [],
      "source": [
        "personas = ['S' for i in range(int(1e5))]"
      ]
    },
    {
      "cell_type": "code",
      "execution_count": null,
      "metadata": {
        "id": "wk8n38LWkwEy"
      },
      "outputs": [],
      "source": [
        "for i in range(len(personas)):\n",
        "  estado = personas[i]\n",
        "  if estado =='N':\n",
        "    continue\n",
        "  x = np.random.random()\n",
        "  trans = chain[estado]\n",
        "  trans.sort(key = lambda x: x[1])\n",
        "  probs = [t[1] for t in trans]\n",
        "  if x <= probs[0]:\n",
        "    personas[i] = trans[0][0]\n",
        "  else:\n",
        "    for j in range(1,len(probs)):\n",
        "      lim_inf = probs[j-1]\n",
        "      lim_sup = probs[j]+lim_inf\n",
        "      \n",
        "      if x > lim_inf and x <= lim_sup:\n",
        "        personas[i] = trans[j][0]\n",
        "        break\n",
        "\n",
        "  #print(trans)"
      ]
    },
    {
      "cell_type": "code",
      "execution_count": null,
      "metadata": {
        "colab": {
          "base_uri": "https://localhost:8080/"
        },
        "id": "WNABzQOzqKOe",
        "outputId": "31a24ca2-5755-4af9-d12e-88a2246a2ef1"
      },
      "outputs": [
        {
          "output_type": "execute_result",
          "data": {
            "text/plain": [
              "70463"
            ]
          },
          "metadata": {},
          "execution_count": 26
        }
      ],
      "source": [
        "personas.count('N')"
      ]
    },
    {
      "cell_type": "code",
      "execution_count": null,
      "metadata": {
        "colab": {
          "base_uri": "https://localhost:8080/"
        },
        "id": "QSxf5QQks6ba",
        "outputId": "11773b33-6b50-48f9-c733-a013ab99f9b1"
      },
      "outputs": [
        {
          "output_type": "execute_result",
          "data": {
            "text/plain": [
              "{'N': 70463, 'P': 26905, 'S': 2632}"
            ]
          },
          "metadata": {},
          "execution_count": 27
        }
      ],
      "source": [
        "contador = dict(collections.Counter(personas)); contador"
      ]
    },
    {
      "cell_type": "code",
      "execution_count": null,
      "metadata": {
        "colab": {
          "base_uri": "https://localhost:8080/"
        },
        "id": "NBjEmRxSu1J5",
        "outputId": "7c9d9a65-27d0-4201-82c5-04cd82648587"
      },
      "outputs": [
        {
          "output_type": "execute_result",
          "data": {
            "text/plain": [
              "{'N': 70463, 'P': 26905, 'S': 2632}"
            ]
          },
          "metadata": {},
          "execution_count": 28
        }
      ],
      "source": [
        "contador = dict(collections.Counter(personas)); contador"
      ]
    },
    {
      "cell_type": "code",
      "execution_count": null,
      "metadata": {
        "colab": {
          "base_uri": "https://localhost:8080/"
        },
        "id": "3jaLRXdVw9rd",
        "outputId": "23ddd049-7e5a-41d0-c4c4-a21b4acae49f"
      },
      "outputs": [
        {
          "output_type": "execute_result",
          "data": {
            "text/plain": [
              "{'N': 70463, 'P': 26905, 'S': 2632}"
            ]
          },
          "metadata": {},
          "execution_count": 29
        }
      ],
      "source": [
        "contador = dict(collections.Counter(personas)); contador"
      ]
    },
    {
      "cell_type": "code",
      "execution_count": null,
      "metadata": {
        "colab": {
          "base_uri": "https://localhost:8080/"
        },
        "id": "YyStRsaoxLq2",
        "outputId": "ed508129-e14c-43d6-d64f-95a9ffd6d6eb"
      },
      "outputs": [
        {
          "output_type": "execute_result",
          "data": {
            "text/plain": [
              "{'N': 70463, 'P': 26905, 'S': 2632}"
            ]
          },
          "metadata": {},
          "execution_count": 30
        }
      ],
      "source": [
        "contador = dict(collections.Counter(personas)); contador"
      ]
    },
    {
      "cell_type": "markdown",
      "metadata": {
        "id": "nYiDOLp2L7nm"
      },
      "source": [
        "## Empezando las simulaciones"
      ]
    },
    {
      "cell_type": "markdown",
      "metadata": {
        "id": "5FF03TJkRxLZ"
      },
      "source": [
        "Hacemos una función que nos permita obtener el siguiente estado de una población."
      ]
    },
    {
      "cell_type": "code",
      "execution_count": null,
      "metadata": {
        "id": "4TL3hc9vMBPE"
      },
      "outputs": [],
      "source": [
        "def get_states(people):\n",
        "    #people: List of strings that represents thecurrent state of a population\n",
        "    \"\"\"\n",
        "    This function will see the current state for each person and will update it,\n",
        "    at the end the function will count the people in each state and will return\n",
        "    a dictionary with the counter\n",
        "    \"\"\"\n",
        "\n",
        "    n = len(people)\n",
        "\n",
        "    for i in range(n):\n",
        "        state = people[i]\n",
        "        \n",
        "        #If the person doesn't have covid, we can't predict their next state\n",
        "        if state =='N':\n",
        "            continue\n",
        "\n",
        "        #We generate a random number in the interval [0,1)\n",
        "        x = np.random.random()\n",
        "\n",
        "        #We get the transitions and sort them ascending order(?) by the probaility\n",
        "        transitions = chain[state]\n",
        "        transitions.sort(key = lambda x: x[1])\n",
        "\n",
        "        #We get the probabilities\n",
        "        probs = [t[1] for t in transitions]\n",
        "\n",
        "        #We get the next state of our person by checking the interval where the\n",
        "        #random number fell (?) \n",
        "        for j in range(len(probs)):\n",
        "            if j==0:\n",
        "                if x <= probs[j]:\n",
        "                    people[i] = transitions[j][0]\n",
        "                    break\n",
        "                continue\n",
        "\n",
        "            lim_inf = probs[j-1]\n",
        "            lim_sup = probs[j]+lim_inf\n",
        "                \n",
        "            if x > lim_inf and x <= lim_sup:\n",
        "                people[i] = transitions[j][0]\n",
        "                break\n",
        "\n",
        "    #We return the dictionary that counts the results\n",
        "    counter = dict(collections.Counter(people))\n",
        "    #Our mistake will be the people that didn't get a diagnosis\n",
        "    try:\n",
        "        counter['e']= counter['S']\n",
        "    except:\n",
        "        counter['e']=0\n",
        "    #Our S value will be the quantity of people that did a test\n",
        "    counter['S']=n\n",
        "\n",
        "    return counter"
      ]
    },
    {
      "cell_type": "code",
      "execution_count": null,
      "metadata": {
        "colab": {
          "base_uri": "https://localhost:8080/"
        },
        "id": "OJSZMF1hQF7M",
        "outputId": "8d5839d3-ff68-4ee3-8d6a-8927e957a0de"
      },
      "outputs": [
        {
          "output_type": "execute_result",
          "data": {
            "text/plain": [
              "{'N': 714, 'P': 266, 'S': 1000, 'e': 20}"
            ]
          },
          "metadata": {},
          "execution_count": 32
        }
      ],
      "source": [
        "#Test\n",
        "pe = ['S' for i in range(1000)]\n",
        "get_states(pe)"
      ]
    },
    {
      "cell_type": "markdown",
      "metadata": {
        "id": "axrZhLdsR8Ux"
      },
      "source": [
        "Hacemos una función que nos permita quedarnos únicamente con aquellas personas que no estén en un estado final."
      ]
    },
    {
      "cell_type": "code",
      "execution_count": null,
      "metadata": {
        "id": "vz9610ASSNua"
      },
      "outputs": [],
      "source": [
        "def generate_people(people_prev):\n",
        "    #people_prev: list of strings that represents the current state of each person\n",
        "    \"\"\"\n",
        "    This functions gets an array of people that will take a test to check their\n",
        "    result\n",
        "    \"\"\"\n",
        "\n",
        "\n",
        "    #We calculate how many people we should add each day\n",
        "    n = len(people_prev)\n",
        "\n",
        "    #We only keep those who are not on a final state\n",
        "    people = [p for p in people_prev if(p!='N' and p!='D')] #Cambiar esto\n",
        "\n",
        "\n",
        "    #We return the people\n",
        "    return people + ['S']*n"
      ]
    },
    {
      "cell_type": "markdown",
      "metadata": {
        "id": "-BLJRj_8Uh7C"
      },
      "source": [
        "Creamos una función para manejar las simulaciones.\n",
        "\n"
      ]
    },
    {
      "cell_type": "code",
      "execution_count": null,
      "metadata": {
        "id": "zJre18urRfLY"
      },
      "outputs": [],
      "source": [
        "def do_simulations(s_people,initial_people=[]):\n",
        "    #s_people: list with integers of people per day\n",
        "    #initial_people: list with strings that represent the current state of all people\n",
        "    \"\"\"\n",
        "    This function does n simulations with p people added in each one, the result\n",
        "    is a dataframe with the main details\n",
        "    \"\"\"\n",
        "\n",
        "    \n",
        "    if initial_people==[]:\n",
        "        prev_people=['S']*s_people[0]\n",
        "\n",
        "    # We create a dataframe that will help us to keep a track\n",
        "    simulations = pd.DataFrame(columns=['S','N','P','H','D','e'])\n",
        "\n",
        "    #The first simulation\n",
        "    simulations.loc[1] = get_states(prev_people)\n",
        "    simulations.fillna(0,inplace=True)\n",
        "    #Now we start the simulations\n",
        "    for i,p in enumerate(s_people[1:]):\n",
        "        \n",
        "        #We create our people to check\n",
        "        positive = int(simulations.loc[i+1,'P'])\n",
        "        hospitalized = int(simulations.loc[i+1,'H'])\n",
        "        people = ['S']*p + ['P']*positive + ['H']*hospitalized\n",
        "        \n",
        "        #We store the results\n",
        "        simulations.loc[i+2] = get_states(people)\n",
        "        simulations.fillna(0,inplace=True)\n",
        "\n",
        "    #We return the dataframe\n",
        "    return simulations"
      ]
    },
    {
      "cell_type": "code",
      "execution_count": null,
      "metadata": {
        "id": "Slnk3R3qRqyE"
      },
      "outputs": [],
      "source": [
        "s_people = list(covidato['FECHA_SINTOMAS'].value_counts())\n",
        "test1 = do_simulations(s_people)"
      ]
    },
    {
      "cell_type": "code",
      "execution_count": null,
      "metadata": {
        "id": "6QXT-x2oRsJ1",
        "colab": {
          "base_uri": "https://localhost:8080/",
          "height": 424
        },
        "outputId": "368a8cbc-38b8-4cb4-c90d-df1382396884"
      },
      "outputs": [
        {
          "output_type": "execute_result",
          "data": {
            "text/html": [
              "\n",
              "  <div id=\"df-fc3e8d2c-0c83-4723-bc00-117d716dd66a\">\n",
              "    <div class=\"colab-df-container\">\n",
              "      <div>\n",
              "<style scoped>\n",
              "    .dataframe tbody tr th:only-of-type {\n",
              "        vertical-align: middle;\n",
              "    }\n",
              "\n",
              "    .dataframe tbody tr th {\n",
              "        vertical-align: top;\n",
              "    }\n",
              "\n",
              "    .dataframe thead th {\n",
              "        text-align: right;\n",
              "    }\n",
              "</style>\n",
              "<table border=\"1\" class=\"dataframe\">\n",
              "  <thead>\n",
              "    <tr style=\"text-align: right;\">\n",
              "      <th></th>\n",
              "      <th>S</th>\n",
              "      <th>N</th>\n",
              "      <th>P</th>\n",
              "      <th>H</th>\n",
              "      <th>D</th>\n",
              "      <th>e</th>\n",
              "    </tr>\n",
              "  </thead>\n",
              "  <tbody>\n",
              "    <tr>\n",
              "      <th>1</th>\n",
              "      <td>98643</td>\n",
              "      <td>69559.0</td>\n",
              "      <td>26436.0</td>\n",
              "      <td>0.0</td>\n",
              "      <td>0.0</td>\n",
              "      <td>2648</td>\n",
              "    </tr>\n",
              "    <tr>\n",
              "      <th>2</th>\n",
              "      <td>120299</td>\n",
              "      <td>88419.0</td>\n",
              "      <td>25157.0</td>\n",
              "      <td>4092.0</td>\n",
              "      <td>122.0</td>\n",
              "      <td>2509</td>\n",
              "    </tr>\n",
              "    <tr>\n",
              "      <th>3</th>\n",
              "      <td>119175</td>\n",
              "      <td>86696.0</td>\n",
              "      <td>24062.0</td>\n",
              "      <td>3857.0</td>\n",
              "      <td>2155.0</td>\n",
              "      <td>2405</td>\n",
              "    </tr>\n",
              "    <tr>\n",
              "      <th>4</th>\n",
              "      <td>117489</td>\n",
              "      <td>85193.0</td>\n",
              "      <td>24191.0</td>\n",
              "      <td>3771.0</td>\n",
              "      <td>2023.0</td>\n",
              "      <td>2311</td>\n",
              "    </tr>\n",
              "    <tr>\n",
              "      <th>5</th>\n",
              "      <td>117188</td>\n",
              "      <td>85194.0</td>\n",
              "      <td>23933.0</td>\n",
              "      <td>3715.0</td>\n",
              "      <td>1975.0</td>\n",
              "      <td>2371</td>\n",
              "    </tr>\n",
              "    <tr>\n",
              "      <th>...</th>\n",
              "      <td>...</td>\n",
              "      <td>...</td>\n",
              "      <td>...</td>\n",
              "      <td>...</td>\n",
              "      <td>...</td>\n",
              "      <td>...</td>\n",
              "    </tr>\n",
              "    <tr>\n",
              "      <th>229</th>\n",
              "      <td>3</td>\n",
              "      <td>1.0</td>\n",
              "      <td>2.0</td>\n",
              "      <td>0.0</td>\n",
              "      <td>0.0</td>\n",
              "      <td>0</td>\n",
              "    </tr>\n",
              "    <tr>\n",
              "      <th>230</th>\n",
              "      <td>4</td>\n",
              "      <td>4.0</td>\n",
              "      <td>0.0</td>\n",
              "      <td>0.0</td>\n",
              "      <td>0.0</td>\n",
              "      <td>0</td>\n",
              "    </tr>\n",
              "    <tr>\n",
              "      <th>231</th>\n",
              "      <td>2</td>\n",
              "      <td>1.0</td>\n",
              "      <td>1.0</td>\n",
              "      <td>0.0</td>\n",
              "      <td>0.0</td>\n",
              "      <td>0</td>\n",
              "    </tr>\n",
              "    <tr>\n",
              "      <th>232</th>\n",
              "      <td>3</td>\n",
              "      <td>3.0</td>\n",
              "      <td>0.0</td>\n",
              "      <td>0.0</td>\n",
              "      <td>0.0</td>\n",
              "      <td>0</td>\n",
              "    </tr>\n",
              "    <tr>\n",
              "      <th>233</th>\n",
              "      <td>2</td>\n",
              "      <td>1.0</td>\n",
              "      <td>1.0</td>\n",
              "      <td>0.0</td>\n",
              "      <td>0.0</td>\n",
              "      <td>0</td>\n",
              "    </tr>\n",
              "  </tbody>\n",
              "</table>\n",
              "<p>233 rows × 6 columns</p>\n",
              "</div>\n",
              "      <button class=\"colab-df-convert\" onclick=\"convertToInteractive('df-fc3e8d2c-0c83-4723-bc00-117d716dd66a')\"\n",
              "              title=\"Convert this dataframe to an interactive table.\"\n",
              "              style=\"display:none;\">\n",
              "        \n",
              "  <svg xmlns=\"http://www.w3.org/2000/svg\" height=\"24px\"viewBox=\"0 0 24 24\"\n",
              "       width=\"24px\">\n",
              "    <path d=\"M0 0h24v24H0V0z\" fill=\"none\"/>\n",
              "    <path d=\"M18.56 5.44l.94 2.06.94-2.06 2.06-.94-2.06-.94-.94-2.06-.94 2.06-2.06.94zm-11 1L8.5 8.5l.94-2.06 2.06-.94-2.06-.94L8.5 2.5l-.94 2.06-2.06.94zm10 10l.94 2.06.94-2.06 2.06-.94-2.06-.94-.94-2.06-.94 2.06-2.06.94z\"/><path d=\"M17.41 7.96l-1.37-1.37c-.4-.4-.92-.59-1.43-.59-.52 0-1.04.2-1.43.59L10.3 9.45l-7.72 7.72c-.78.78-.78 2.05 0 2.83L4 21.41c.39.39.9.59 1.41.59.51 0 1.02-.2 1.41-.59l7.78-7.78 2.81-2.81c.8-.78.8-2.07 0-2.86zM5.41 20L4 18.59l7.72-7.72 1.47 1.35L5.41 20z\"/>\n",
              "  </svg>\n",
              "      </button>\n",
              "      \n",
              "  <style>\n",
              "    .colab-df-container {\n",
              "      display:flex;\n",
              "      flex-wrap:wrap;\n",
              "      gap: 12px;\n",
              "    }\n",
              "\n",
              "    .colab-df-convert {\n",
              "      background-color: #E8F0FE;\n",
              "      border: none;\n",
              "      border-radius: 50%;\n",
              "      cursor: pointer;\n",
              "      display: none;\n",
              "      fill: #1967D2;\n",
              "      height: 32px;\n",
              "      padding: 0 0 0 0;\n",
              "      width: 32px;\n",
              "    }\n",
              "\n",
              "    .colab-df-convert:hover {\n",
              "      background-color: #E2EBFA;\n",
              "      box-shadow: 0px 1px 2px rgba(60, 64, 67, 0.3), 0px 1px 3px 1px rgba(60, 64, 67, 0.15);\n",
              "      fill: #174EA6;\n",
              "    }\n",
              "\n",
              "    [theme=dark] .colab-df-convert {\n",
              "      background-color: #3B4455;\n",
              "      fill: #D2E3FC;\n",
              "    }\n",
              "\n",
              "    [theme=dark] .colab-df-convert:hover {\n",
              "      background-color: #434B5C;\n",
              "      box-shadow: 0px 1px 3px 1px rgba(0, 0, 0, 0.15);\n",
              "      filter: drop-shadow(0px 1px 2px rgba(0, 0, 0, 0.3));\n",
              "      fill: #FFFFFF;\n",
              "    }\n",
              "  </style>\n",
              "\n",
              "      <script>\n",
              "        const buttonEl =\n",
              "          document.querySelector('#df-fc3e8d2c-0c83-4723-bc00-117d716dd66a button.colab-df-convert');\n",
              "        buttonEl.style.display =\n",
              "          google.colab.kernel.accessAllowed ? 'block' : 'none';\n",
              "\n",
              "        async function convertToInteractive(key) {\n",
              "          const element = document.querySelector('#df-fc3e8d2c-0c83-4723-bc00-117d716dd66a');\n",
              "          const dataTable =\n",
              "            await google.colab.kernel.invokeFunction('convertToInteractive',\n",
              "                                                     [key], {});\n",
              "          if (!dataTable) return;\n",
              "\n",
              "          const docLinkHtml = 'Like what you see? Visit the ' +\n",
              "            '<a target=\"_blank\" href=https://colab.research.google.com/notebooks/data_table.ipynb>data table notebook</a>'\n",
              "            + ' to learn more about interactive tables.';\n",
              "          element.innerHTML = '';\n",
              "          dataTable['output_type'] = 'display_data';\n",
              "          await google.colab.output.renderOutput(dataTable, element);\n",
              "          const docLink = document.createElement('div');\n",
              "          docLink.innerHTML = docLinkHtml;\n",
              "          element.appendChild(docLink);\n",
              "        }\n",
              "      </script>\n",
              "    </div>\n",
              "  </div>\n",
              "  "
            ],
            "text/plain": [
              "          S        N        P       H       D     e\n",
              "1     98643  69559.0  26436.0     0.0     0.0  2648\n",
              "2    120299  88419.0  25157.0  4092.0   122.0  2509\n",
              "3    119175  86696.0  24062.0  3857.0  2155.0  2405\n",
              "4    117489  85193.0  24191.0  3771.0  2023.0  2311\n",
              "5    117188  85194.0  23933.0  3715.0  1975.0  2371\n",
              "..      ...      ...      ...     ...     ...   ...\n",
              "229       3      1.0      2.0     0.0     0.0     0\n",
              "230       4      4.0      0.0     0.0     0.0     0\n",
              "231       2      1.0      1.0     0.0     0.0     0\n",
              "232       3      3.0      0.0     0.0     0.0     0\n",
              "233       2      1.0      1.0     0.0     0.0     0\n",
              "\n",
              "[233 rows x 6 columns]"
            ]
          },
          "metadata": {},
          "execution_count": 45
        }
      ],
      "source": [
        "test1"
      ]
    },
    {
      "cell_type": "code",
      "source": [
        "sims=list(range(1,test1.shape[0]+1))\n",
        "sns.lineplot(data=test1, x=sims, y=\"N\", color='blue')\n",
        "sns.lineplot(data=test1, x=sims, y=\"P\", color='green')\n",
        "sns.lineplot(data=test1, x=sims, y=\"H\", color='goldenrod')\n",
        "sns.lineplot(data=test1, x=sims, y=\"D\", color='red')\n",
        "plt.xlabel('Simulation')\n",
        "plt.ylabel('People')\n",
        "plt.show()"
      ],
      "metadata": {
        "colab": {
          "base_uri": "https://localhost:8080/",
          "height": 279
        },
        "id": "BycQJUZ0YrFG",
        "outputId": "0ab4dad7-9396-46a7-f94e-e58cbb5b3734"
      },
      "execution_count": null,
      "outputs": [
        {
          "output_type": "display_data",
          "data": {
            "image/png": "[encoded data removed]",
            "text/plain": [
              "<Figure size 432x288 with 1 Axes>"
            ]
          },
          "metadata": {
            "needs_background": "light"
          }
        }
      ]
    },
    {
      "cell_type": "code",
      "source": [
        "sims=list(range(1,test1.shape[0]+1))\n",
        "sns.lineplot(x=sims, y=test1.P.cumsum(), color='green')\n",
        "sns.lineplot(x=sims, y=test1.H.cumsum(), color='goldenrod')\n",
        "sns.lineplot(x=sims, y=test1.D.cumsum(), color='red')\n",
        "plt.xlabel('Simulation')\n",
        "plt.ylabel('People')\n",
        "plt.show()"
      ],
      "metadata": {
        "colab": {
          "base_uri": "https://localhost:8080/",
          "height": 290
        },
        "id": "IfPLO7Z4hI_N",
        "outputId": "d8a6ebfd-4554-4aff-aa99-41ef4e277e2b"
      },
      "execution_count": null,
      "outputs": [
        {
          "output_type": "display_data",
          "data": {
            "image/png": "[encoded data removed]",
            "text/plain": [
              "<Figure size 432x288 with 1 Axes>"
            ]
          },
          "metadata": {
            "needs_background": "light"
          }
        }
      ]
    },
    {
      "cell_type": "code",
      "source": [
        "sims=list(range(1,test1.shape[0]+1))\n",
        "sns.lineplot(data=test1, x=sims, y=\"N\", color='blue')\n",
        "plt.title('Negative')\n",
        "plt.xlabel('Simulation')\n",
        "plt.ylabel('People')\n",
        "plt.show()"
      ],
      "metadata": {
        "colab": {
          "base_uri": "https://localhost:8080/",
          "height": 295
        },
        "id": "qKG88w1kZRFE",
        "outputId": "46a4d329-14d0-4b5f-ee69-84815bd72724"
      },
      "execution_count": null,
      "outputs": [
        {
          "output_type": "display_data",
          "data": {
            "image/png": "[encoded data removed]",
            "text/plain": [
              "<Figure size 432x288 with 1 Axes>"
            ]
          },
          "metadata": {
            "needs_background": "light"
          }
        }
      ]
    },
    {
      "cell_type": "code",
      "source": [
        "sims=list(range(1,test1.shape[0]+1))\n",
        "sns.lineplot(data=test1, x=sims, y=\"P\", color='green')\n",
        "plt.title('Positive')\n",
        "plt.xlabel('Simulation')\n",
        "plt.ylabel('People')\n",
        "plt.show()"
      ],
      "metadata": {
        "colab": {
          "base_uri": "https://localhost:8080/",
          "height": 295
        },
        "id": "S3tHcsKqgunj",
        "outputId": "3b7f9612-09be-48da-cb49-e0c3e9268ce1"
      },
      "execution_count": null,
      "outputs": [
        {
          "output_type": "display_data",
          "data": {
            "image/png": "[encoded data removed]",
            "text/plain": [
              "<Figure size 432x288 with 1 Axes>"
            ]
          },
          "metadata": {
            "needs_background": "light"
          }
        }
      ]
    },
    {
      "cell_type": "code",
      "source": [
        "sims=list(range(1,test1.shape[0]+1))\n",
        "sns.lineplot(data=test1, x=sims, y=\"H\", color='goldenrod')\n",
        "plt.title('Hospitalised')\n",
        "plt.xlabel('Simulation')\n",
        "plt.ylabel('People')\n",
        "plt.show()"
      ],
      "metadata": {
        "colab": {
          "base_uri": "https://localhost:8080/",
          "height": 295
        },
        "id": "9B2juDoKg0V9",
        "outputId": "a98c3f47-138c-4656-de14-2d246a60772c"
      },
      "execution_count": null,
      "outputs": [
        {
          "output_type": "display_data",
          "data": {
            "image/png": "[encoded data removed]",
            "text/plain": [
              "<Figure size 432x288 with 1 Axes>"
            ]
          },
          "metadata": {
            "needs_background": "light"
          }
        }
      ]
    },
    {
      "cell_type": "code",
      "source": [
        "sims=list(range(1,test1.shape[0]+1))\n",
        "D=list(dif[dif.FECHA_ACTUALIZACION=='2022-01-19'].FECHA_DEF.value_counts())\n",
        "nd = [i for i in range(1,len(D)+1)]\n",
        "sns.lineplot(x=nd, y=D, color='darkred', label='Real')\n",
        "sns.lineplot(data=test1, x=sims, y=\"D\", color='red', label = 'Simulation')\n",
        "plt.legend()\n",
        "plt.title(\"Results for dead people\")\n",
        "plt.xlabel('Simulation')\n",
        "plt.ylabel('People')\n",
        "plt.show()"
      ],
      "metadata": {
        "colab": {
          "base_uri": "https://localhost:8080/",
          "height": 295
        },
        "id": "z4NTO5Sig3TY",
        "outputId": "00bf7480-509d-4126-8c3b-9a6cdbae629a"
      },
      "execution_count": null,
      "outputs": [
        {
          "output_type": "display_data",
          "data": {
            "image/png": "[encoded data removed]",
            "text/plain": [
              "<Figure size 432x288 with 1 Axes>"
            ]
          },
          "metadata": {
            "needs_background": "light"
          }
        }
      ]
    },
    {
      "cell_type": "code",
      "source": [
        "sims=list(range(1,test1.shape[0]+1))\n",
        "sns.lineplot(data=test1, x=sims, y=\"e\", color='darkorchid')\n",
        "plt.title('Error')\n",
        "plt.xlabel('Simulation')\n",
        "plt.ylabel('People')\n",
        "plt.show()"
      ],
      "metadata": {
        "colab": {
          "base_uri": "https://localhost:8080/",
          "height": 295
        },
        "id": "GvznQCgdhC-V",
        "outputId": "598c5faf-de0a-4a42-c3a5-499125e727df"
      },
      "execution_count": null,
      "outputs": [
        {
          "output_type": "display_data",
          "data": {
            "image/png": "[encoded data removed]",
            "text/plain": [
              "<Figure size 432x288 with 1 Axes>"
            ]
          },
          "metadata": {
            "needs_background": "light"
          }
        }
      ]
    },
    {
      "cell_type": "code",
      "source": [
        ""
      ],
      "metadata": {
        "id": "tsGamfqXNUfn"
      },
      "execution_count": null,
      "outputs": []
    }
  ],
  "metadata": {
    "colab": {
      "collapsed_sections": [],
      "name": "MarKovid.ipynb",
      "provenance": [],
      "include_colab_link": true
    },
    "kernelspec": {
      "display_name": "Python 3",
      "name": "python3"
    },
    "language_info": {
      "name": "python"
    }
  },
  "nbformat": 4,
  "nbformat_minor": 0
}